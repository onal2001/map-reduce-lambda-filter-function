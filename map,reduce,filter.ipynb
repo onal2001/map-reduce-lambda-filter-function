{
 "cells": [
  {
   "cell_type": "code",
   "execution_count": 1,
   "id": "9aa026a6-95a7-480c-9eca-ab3642102ee6",
   "metadata": {},
   "outputs": [],
   "source": [
    "l=[1,2,3,4,5,6]"
   ]
  },
  {
   "cell_type": "code",
   "execution_count": 9,
   "id": "fd5f83e7-b91b-4b91-b639-12b48197eb3e",
   "metadata": {},
   "outputs": [],
   "source": [
    "\n",
    "def qub(x):\n",
    "    return x**4"
   ]
  },
  {
   "cell_type": "code",
   "execution_count": 10,
   "id": "fda01f46-5f0d-432b-a5f7-bd169001afc7",
   "metadata": {},
   "outputs": [
    {
     "data": {
      "text/plain": [
       "[1, 16, 81, 256, 625, 1296]"
      ]
     },
     "execution_count": 10,
     "metadata": {},
     "output_type": "execute_result"
    }
   ],
   "source": [
    "list(map(qub , l))"
   ]
  },
  {
   "cell_type": "code",
   "execution_count": 11,
   "id": "14f308e7-3138-4eb9-b962-22eaa01b04a8",
   "metadata": {},
   "outputs": [
    {
     "data": {
      "text/plain": [
       "[1, 8, 27, 64, 125, 216]"
      ]
     },
     "execution_count": 11,
     "metadata": {},
     "output_type": "execute_result"
    }
   ],
   "source": [
    "list(map(lambda x: x**3,l))"
   ]
  },
  {
   "cell_type": "code",
   "execution_count": 14,
   "id": "06e724d7-8c92-4c01-871d-d13b76c4cecb",
   "metadata": {},
   "outputs": [
    {
     "data": {
      "text/plain": [
       "[24, 69, 92, 10]"
      ]
     },
     "execution_count": 14,
     "metadata": {},
     "output_type": "execute_result"
    }
   ],
   "source": [
    "l=[1,2,3,4,8]\n",
    "ll=[23,67,89,6]\n",
    "\n",
    "list (map(lambda x,y:x+y,l,ll))"
   ]
  },
  {
   "cell_type": "code",
   "execution_count": 15,
   "id": "4c46d5f9-5669-46c0-a985-42b9eac300a5",
   "metadata": {},
   "outputs": [],
   "source": [
    "def add(x,y):\n",
    "    return x+y"
   ]
  },
  {
   "cell_type": "code",
   "execution_count": 16,
   "id": "adf60b59-aa29-404f-9313-e104a39832a0",
   "metadata": {},
   "outputs": [
    {
     "data": {
      "text/plain": [
       "[24, 69, 92, 10]"
      ]
     },
     "execution_count": 16,
     "metadata": {},
     "output_type": "execute_result"
    }
   ],
   "source": [
    "list(map(add,l,ll))"
   ]
  },
  {
   "cell_type": "code",
   "execution_count": 17,
   "id": "05343284-94cf-4bcf-810e-ccf850ca273a",
   "metadata": {},
   "outputs": [],
   "source": [
    "s=\"my beta\""
   ]
  },
  {
   "cell_type": "code",
   "execution_count": 18,
   "id": "a3ffa69a-5b61-42d1-b722-6a04f6c4b430",
   "metadata": {},
   "outputs": [
    {
     "data": {
      "text/plain": [
       "['M', 'Y', ' ', 'B', 'E', 'T', 'A']"
      ]
     },
     "execution_count": 18,
     "metadata": {},
     "output_type": "execute_result"
    }
   ],
   "source": [
    "list(map (lambda s: s.upper(),s))"
   ]
  },
  {
   "cell_type": "code",
   "execution_count": 19,
   "id": "7d0f283a-c838-4bb1-b321-4774334f0820",
   "metadata": {},
   "outputs": [],
   "source": [
    "from functools import reduce"
   ]
  },
  {
   "cell_type": "code",
   "execution_count": 20,
   "id": "13824bfa-6959-4241-9b1c-2547eafb4f8a",
   "metadata": {},
   "outputs": [],
   "source": [
    "l=[3,4,5,6,]"
   ]
  },
  {
   "cell_type": "code",
   "execution_count": 22,
   "id": "07dccc8c-c147-4097-b13f-d9defda138e8",
   "metadata": {},
   "outputs": [
    {
     "data": {
      "text/plain": [
       "18"
      ]
     },
     "execution_count": 22,
     "metadata": {},
     "output_type": "execute_result"
    }
   ],
   "source": [
    "reduce(lambda x,y:x+y,l)"
   ]
  },
  {
   "cell_type": "code",
   "execution_count": 7,
   "id": "74e5fbab-44c1-4437-aceb-43ad1b57b0aa",
   "metadata": {},
   "outputs": [],
   "source": [
    "l=[45,67,54]"
   ]
  },
  {
   "cell_type": "code",
   "execution_count": 4,
   "id": "baeed18c-c02e-411a-8d17-88626e0d660f",
   "metadata": {},
   "outputs": [
    {
     "data": {
      "text/plain": [
       "[35, 79, 134]"
      ]
     },
     "execution_count": 4,
     "metadata": {},
     "output_type": "execute_result"
    }
   ],
   "source": [
    "list(map(lambda x,y:x+y,ll,l1))"
   ]
  },
  {
   "cell_type": "code",
   "execution_count": 8,
   "id": "e5c0290b-ced9-402b-ae9e-4b162cb03492",
   "metadata": {},
   "outputs": [
    {
     "ename": "NameError",
     "evalue": "name 'reduce' is not defined",
     "output_type": "error",
     "traceback": [
      "\u001b[0;31m---------------------------------------------------------------------------\u001b[0m",
      "\u001b[0;31mNameError\u001b[0m                                 Traceback (most recent call last)",
      "Cell \u001b[0;32mIn[8], line 1\u001b[0m\n\u001b[0;32m----> 1\u001b[0m \u001b[43mreduce\u001b[49m(\u001b[38;5;28;01mlambda\u001b[39;00m x,y:x\u001b[38;5;241m+\u001b[39my,l)\n",
      "\u001b[0;31mNameError\u001b[0m: name 'reduce' is not defined"
     ]
    }
   ],
   "source": [
    "reduce(lambda x,y:x+y,l)"
   ]
  },
  {
   "cell_type": "code",
   "execution_count": 10,
   "id": "0aa3e283-a6bf-4e6a-a3d3-2299f6c879cc",
   "metadata": {},
   "outputs": [],
   "source": [
    "from functools import reduce"
   ]
  },
  {
   "cell_type": "code",
   "execution_count": 11,
   "id": "8f1d6f8e-57ac-42eb-94dd-8286daaaea92",
   "metadata": {},
   "outputs": [],
   "source": [
    "l=[23,45,6,7,5,4,3]"
   ]
  },
  {
   "cell_type": "code",
   "execution_count": 12,
   "id": "89c8f5dd-78ae-4249-a6b6-e686d3998e86",
   "metadata": {},
   "outputs": [
    {
     "data": {
      "text/plain": [
       "45"
      ]
     },
     "execution_count": 12,
     "metadata": {},
     "output_type": "execute_result"
    }
   ],
   "source": [
    "reduce(lambda x,y:x if x>y else y ,l)"
   ]
  },
  {
   "cell_type": "code",
   "execution_count": 13,
   "id": "8d29b53a-6587-4b3e-988b-9900fc622c53",
   "metadata": {},
   "outputs": [],
   "source": [
    "def big(x):\n",
    "    return greater"
   ]
  },
  {
   "cell_type": "code",
   "execution_count": 14,
   "id": "a7be7409-c13f-40e3-bf0c-659d611edfa4",
   "metadata": {},
   "outputs": [
    {
     "data": {
      "text/plain": [
       "<map at 0x7f46a831aa40>"
      ]
     },
     "execution_count": 14,
     "metadata": {},
     "output_type": "execute_result"
    }
   ],
   "source": [
    "map(big,l)"
   ]
  },
  {
   "cell_type": "code",
   "execution_count": 15,
   "id": "15bed30e-5c83-4fdb-a7b6-b47486e70da5",
   "metadata": {},
   "outputs": [],
   "source": [
    "l=[23,4,64,3,2,3,4]"
   ]
  },
  {
   "cell_type": "code",
   "execution_count": null,
   "id": "c6225ee3-2e07-45d9-9070-213f17e80e43",
   "metadata": {},
   "outputs": [],
   "source": []
  },
  {
   "cell_type": "code",
   "execution_count": 21,
   "id": "551ecfef-9455-4b3f-b98e-0802211f203b",
   "metadata": {},
   "outputs": [
    {
     "data": {
      "text/plain": [
       "[23, 3, 3]"
      ]
     },
     "execution_count": 21,
     "metadata": {},
     "output_type": "execute_result"
    }
   ],
   "source": [
    "list(filter(lambda x:x%2 !=0,l))"
   ]
  },
  {
   "cell_type": "code",
   "execution_count": 22,
   "id": "02faaf2f-0c68-48fa-9113-bba83b5c7e3f",
   "metadata": {},
   "outputs": [],
   "source": [
    "l1=[12,3,4,5,6-66,7,5,-4,-5,-5,-5]"
   ]
  },
  {
   "cell_type": "code",
   "execution_count": 23,
   "id": "0225be12-d2cf-4db8-ac6c-fc429896eb15",
   "metadata": {},
   "outputs": [
    {
     "data": {
      "text/plain": [
       "[-60, -4, -5, -5, -5]"
      ]
     },
     "execution_count": 23,
     "metadata": {},
     "output_type": "execute_result"
    }
   ],
   "source": [
    "list(filter(lambda x:x<0,l1))"
   ]
  },
  {
   "cell_type": "code",
   "execution_count": 26,
   "id": "a98af958-2e2d-42e0-b5ed-bf2e5a073876",
   "metadata": {},
   "outputs": [],
   "source": [
    "l2=[\"sonasfsdl\",\"reeta\",\"reena\",\"mohan\"]"
   ]
  },
  {
   "cell_type": "code",
   "execution_count": 27,
   "id": "27ff8afa-0d74-4543-a5d7-c1b9e948ca51",
   "metadata": {},
   "outputs": [
    {
     "data": {
      "text/plain": [
       "['reeta', 'reena', 'mohan']"
      ]
     },
     "execution_count": 27,
     "metadata": {},
     "output_type": "execute_result"
    }
   ],
   "source": [
    "list(filter(lambda x:len(x)<6,l2))"
   ]
  },
  {
   "cell_type": "code",
   "execution_count": null,
   "id": "d34350e7-791a-472e-9bc1-f5cb3ee727e8",
   "metadata": {},
   "outputs": [],
   "source": []
  }
 ],
 "metadata": {
  "kernelspec": {
   "display_name": "Python 3 (ipykernel)",
   "language": "python",
   "name": "python3"
  },
  "language_info": {
   "codemirror_mode": {
    "name": "ipython",
    "version": 3
   },
   "file_extension": ".py",
   "mimetype": "text/x-python",
   "name": "python",
   "nbconvert_exporter": "python",
   "pygments_lexer": "ipython3",
   "version": "3.10.8"
  }
 },
 "nbformat": 4,
 "nbformat_minor": 5
}
