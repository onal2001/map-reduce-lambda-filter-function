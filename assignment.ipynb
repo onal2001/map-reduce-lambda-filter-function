{
 "cells": [
  {
   "cell_type": "code",
   "execution_count": 2,
   "id": "ee297ed0-766f-4f5e-8e52-c5ae51c7c055",
   "metadata": {},
   "outputs": [],
   "source": [
    "#Q.2 write a python program to find the sqares of all the numbers in the given list \n",
    " # of integers using lambda and map functtions.\n",
    "\n",
    " # [1,2,3,4,5,6,7,8,9,10]\n"
   ]
  },
  {
   "cell_type": "code",
   "execution_count": 3,
   "id": "2e0c32d4-984b-4351-a770-b3e8f4036243",
   "metadata": {},
   "outputs": [],
   "source": [
    "# Ans. map function  "
   ]
  },
  {
   "cell_type": "code",
   "execution_count": 4,
   "id": "a8bf4b8e-a10c-4760-9543-fa599ef5fa3b",
   "metadata": {},
   "outputs": [],
   "source": [
    "l=[1,2,3,4,5,6,7,8,9,10]"
   ]
  },
  {
   "cell_type": "code",
   "execution_count": 5,
   "id": "4be6344e-8a5b-48eb-adb8-f6bd8d8cdc1f",
   "metadata": {},
   "outputs": [],
   "source": [
    "def sq(x):\n",
    "    return x**2"
   ]
  },
  {
   "cell_type": "code",
   "execution_count": 6,
   "id": "34853d00-8e4e-473a-87a3-308159adea26",
   "metadata": {},
   "outputs": [
    {
     "data": {
      "text/plain": [
       "[1, 4, 9, 16, 25, 36, 49, 64, 81, 100]"
      ]
     },
     "execution_count": 6,
     "metadata": {},
     "output_type": "execute_result"
    }
   ],
   "source": [
    "list(map(sq,l))"
   ]
  },
  {
   "cell_type": "code",
   "execution_count": 7,
   "id": "45a29602-6c64-410c-92c9-77c8f08e1b8f",
   "metadata": {},
   "outputs": [],
   "source": [
    "# lambda function"
   ]
  },
  {
   "cell_type": "code",
   "execution_count": 10,
   "id": "75140a3c-db28-4e62-99f1-02986b60f10a",
   "metadata": {},
   "outputs": [
    {
     "data": {
      "text/plain": [
       "[1, 4, 9, 16, 25, 36, 49, 64, 81, 100]"
      ]
     },
     "execution_count": 10,
     "metadata": {},
     "output_type": "execute_result"
    }
   ],
   "source": [
    "(list(map(lambda x:x**2,l)))"
   ]
  },
  {
   "cell_type": "code",
   "execution_count": 12,
   "id": "467f1b66-64f8-406c-a1b0-c7d582399917",
   "metadata": {},
   "outputs": [],
   "source": [
    "# Q.4 Write a python program using reduce function to compute the product of a list containing \n",
    "# numbers from 1 to 25."
   ]
  },
  {
   "cell_type": "code",
   "execution_count": 13,
   "id": "d8729773-7e6d-402e-ae0d-585f00bcf45b",
   "metadata": {},
   "outputs": [],
   "source": [
    "from functools import reduce"
   ]
  },
  {
   "cell_type": "code",
   "execution_count": 14,
   "id": "471ba690-0cdd-4b38-b03c-e26580d3d10c",
   "metadata": {},
   "outputs": [],
   "source": [
    "l=[1,2,3,4,5,6,7,8,9,10,11,12,13,14,15,16,17,18,19,20,21,22,23,24,25]"
   ]
  },
  {
   "cell_type": "code",
   "execution_count": 15,
   "id": "9d869a7e-82ec-4b5a-b00b-867b65d0999b",
   "metadata": {},
   "outputs": [
    {
     "data": {
      "text/plain": [
       "15511210043330985984000000"
      ]
     },
     "execution_count": 15,
     "metadata": {},
     "output_type": "execute_result"
    }
   ],
   "source": [
    "reduce(lambda x,y:x*y,l)"
   ]
  },
  {
   "cell_type": "code",
   "execution_count": 16,
   "id": "ec02829d-9ca5-438d-89f9-9788d80b12f9",
   "metadata": {},
   "outputs": [],
   "source": [
    "# Q.5 Write a python program to filter the numbers in a givenlist that are divisible by 2 and 3 using the\n",
    "# filter function.\n",
    "# [2,3,6,9,27,60,,90,120,55,46]"
   ]
  },
  {
   "cell_type": "code",
   "execution_count": 17,
   "id": "53495642-f812-4ba6-81ad-450527b8850a",
   "metadata": {},
   "outputs": [],
   "source": [
    "l=[2,3,6,9,27,60,90,120,55,46]"
   ]
  },
  {
   "cell_type": "code",
   "execution_count": 18,
   "id": "07b57069-1a37-44c5-a35a-7f5ac6e7c813",
   "metadata": {},
   "outputs": [
    {
     "data": {
      "text/plain": [
       "[2, 6, 60, 90, 120, 46]"
      ]
     },
     "execution_count": 18,
     "metadata": {},
     "output_type": "execute_result"
    }
   ],
   "source": [
    "list(filter(lambda x:x%2==0,l))"
   ]
  },
  {
   "cell_type": "code",
   "execution_count": 19,
   "id": "683f5ceb-d095-43a5-b367-c5def901cb28",
   "metadata": {},
   "outputs": [
    {
     "data": {
      "text/plain": [
       "[3, 6, 9, 27, 60, 90, 120]"
      ]
     },
     "execution_count": 19,
     "metadata": {},
     "output_type": "execute_result"
    }
   ],
   "source": [
    "list(filter(lambda x:x%3==0,l))"
   ]
  },
  {
   "cell_type": "code",
   "execution_count": 20,
   "id": "177ad69b-bd9f-42fd-a3d2-170beb2380d8",
   "metadata": {},
   "outputs": [],
   "source": [
    "# Q.6 Write a python program to find palindromes in the given list of strings list of string using lambda \n",
    "# lambda and filter function.\n",
    "# ['python','php','aba','radar','level']"
   ]
  },
  {
   "cell_type": "code",
   "execution_count": 21,
   "id": "75a23358-3505-4697-844b-9e70c18c7050",
   "metadata": {},
   "outputs": [],
   "source": [
    "s=['python','php','aba','radar','level']"
   ]
  },
  {
   "cell_type": "code",
   "execution_count": 22,
   "id": "27351458-e3d1-47b2-9405-83ac1a2d3fcc",
   "metadata": {},
   "outputs": [
    {
     "data": {
      "text/plain": [
       "['python', 'php', 'aba', 'radar', 'level']"
      ]
     },
     "execution_count": 22,
     "metadata": {},
     "output_type": "execute_result"
    }
   ],
   "source": [
    "list(filter(lambda x:x[::-1],s))"
   ]
  },
  {
   "cell_type": "code",
   "execution_count": 24,
   "id": "048c5c8d-bf21-4ae2-bb81-bab5f98c222b",
   "metadata": {},
   "outputs": [],
   "source": [
    "# Q.1 Create a python program to short the givenlist of tuples based on integer value using a lambda\n",
    "# function.\n",
    "# ('Sachin Tendulkar',34367),('Ricky Ponting',27483),('Jack Kallis',25534),('Virat Kohali',24936)]"
   ]
  },
  {
   "cell_type": "code",
   "execution_count": 32,
   "id": "bcc8e5c9-fd4a-4223-819e-a9af375a768a",
   "metadata": {},
   "outputs": [],
   "source": [
    "list_of_tupple=[('Sachin Tendulkar',34367),('Ricky Ponting',27483),('Jack Kallis',25534),\n",
    "                ('Virat Kohali',24936)]"
   ]
  },
  {
   "cell_type": "code",
   "execution_count": 34,
   "id": "5fbe1b96-b2b8-4400-8cb6-91281617b5a8",
   "metadata": {},
   "outputs": [
    {
     "data": {
      "text/plain": [
       "(<function __main__.<lambda>(s)>,\n",
       " [('Sachin Tendulkar', 34367),\n",
       "  ('Ricky Ponting', 27483),\n",
       "  ('Jack Kallis', 25534),\n",
       "  ('Virat Kohali', 24936)])"
      ]
     },
     "execution_count": 34,
     "metadata": {},
     "output_type": "execute_result"
    }
   ],
   "source": [
    "lambda s:s.short(),list_of_tupple\n",
    "    "
   ]
  },
  {
   "cell_type": "code",
   "execution_count": 35,
   "id": "8afb1dcb-4125-4e62-bbff-f93f95398cc8",
   "metadata": {},
   "outputs": [],
   "source": [
    "# Q.3 Write a python program to convrt the given list of integers into a tupple \n",
    "# of strings.Use map and lambda function.\n",
    "#[1,2,3,4,5,6,7,8,9,10]"
   ]
  },
  {
   "cell_type": "code",
   "execution_count": 36,
   "id": "d23ae0f6-28b1-40be-b28e-149145f76a41",
   "metadata": {},
   "outputs": [],
   "source": [
    "l=[1,2,3,4,5,6,7,8,9,10]"
   ]
  },
  {
   "cell_type": "code",
   "execution_count": 38,
   "id": "41e5fba4-c763-446f-9405-a647fc779619",
   "metadata": {},
   "outputs": [
    {
     "ename": "TypeError",
     "evalue": "tuple expected at most 1 argument, got 2",
     "output_type": "error",
     "traceback": [
      "\u001b[0;31m---------------------------------------------------------------------------\u001b[0m",
      "\u001b[0;31mTypeError\u001b[0m                                 Traceback (most recent call last)",
      "Cell \u001b[0;32mIn[38], line 1\u001b[0m\n\u001b[0;32m----> 1\u001b[0m \u001b[38;5;28;43mtuple\u001b[39;49m\u001b[43m(\u001b[49m\u001b[38;5;28;43;01mlambda\u001b[39;49;00m\u001b[43m \u001b[49m\u001b[43mx\u001b[49m\u001b[43m:\u001b[49m\u001b[43mxstr\u001b[49m\u001b[43m(\u001b[49m\u001b[43mx\u001b[49m\u001b[43m)\u001b[49m\u001b[43m,\u001b[49m\u001b[43ml\u001b[49m\u001b[43m)\u001b[49m\n",
      "\u001b[0;31mTypeError\u001b[0m: tuple expected at most 1 argument, got 2"
     ]
    }
   ],
   "source": [
    "tuple(map(lambda x:xstr(x),l)"
   ]
  },
  {
   "cell_type": "code",
   "execution_count": null,
   "id": "1ca30377-fa7d-4957-887e-20170ed3e278",
   "metadata": {},
   "outputs": [],
   "source": []
  }
 ],
 "metadata": {
  "kernelspec": {
   "display_name": "Python 3 (ipykernel)",
   "language": "python",
   "name": "python3"
  },
  "language_info": {
   "codemirror_mode": {
    "name": "ipython",
    "version": 3
   },
   "file_extension": ".py",
   "mimetype": "text/x-python",
   "name": "python",
   "nbconvert_exporter": "python",
   "pygments_lexer": "ipython3",
   "version": "3.10.8"
  }
 },
 "nbformat": 4,
 "nbformat_minor": 5
}
